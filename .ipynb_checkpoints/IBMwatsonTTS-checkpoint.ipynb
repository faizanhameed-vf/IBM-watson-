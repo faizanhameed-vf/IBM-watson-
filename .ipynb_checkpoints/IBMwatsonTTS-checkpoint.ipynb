{
 "cells": [
  {
   "cell_type": "code",
   "execution_count": 45,
   "id": "4945278d-0ab0-48d3-8993-2c533177d14c",
   "metadata": {},
   "outputs": [
    {
     "name": "stdout",
     "output_type": "stream",
     "text": [
      "Requirement already satisfied: ibm_watson in c:\\users\\faizan hameed\\anaconda3\\lib\\site-packages (8.1.0)\n",
      "Requirement already satisfied: requests<3.0,>=2.0 in c:\\users\\faizan hameed\\anaconda3\\lib\\site-packages (from ibm_watson) (2.32.2)\n",
      "Requirement already satisfied: python-dateutil>=2.5.3 in c:\\users\\faizan hameed\\anaconda3\\lib\\site-packages (from ibm_watson) (2.9.0.post0)\n",
      "Requirement already satisfied: websocket-client>=1.1.0 in c:\\users\\faizan hameed\\anaconda3\\lib\\site-packages (from ibm_watson) (1.8.0)\n",
      "Requirement already satisfied: ibm-cloud-sdk-core==3.*,>=3.3.6 in c:\\users\\faizan hameed\\anaconda3\\lib\\site-packages (from ibm_watson) (3.20.6)\n",
      "Requirement already satisfied: urllib3<3.0.0,>=2.1.0 in c:\\users\\faizan hameed\\anaconda3\\lib\\site-packages (from ibm-cloud-sdk-core==3.*,>=3.3.6->ibm_watson) (2.2.2)\n",
      "Requirement already satisfied: PyJWT<3.0.0,>=2.8.0 in c:\\users\\faizan hameed\\anaconda3\\lib\\site-packages (from ibm-cloud-sdk-core==3.*,>=3.3.6->ibm_watson) (2.8.0)\n",
      "Requirement already satisfied: six>=1.5 in c:\\users\\faizan hameed\\anaconda3\\lib\\site-packages (from python-dateutil>=2.5.3->ibm_watson) (1.16.0)\n",
      "Requirement already satisfied: charset-normalizer<4,>=2 in c:\\users\\faizan hameed\\anaconda3\\lib\\site-packages (from requests<3.0,>=2.0->ibm_watson) (2.0.4)\n",
      "Requirement already satisfied: idna<4,>=2.5 in c:\\users\\faizan hameed\\anaconda3\\lib\\site-packages (from requests<3.0,>=2.0->ibm_watson) (3.7)\n",
      "Requirement already satisfied: certifi>=2017.4.17 in c:\\users\\faizan hameed\\anaconda3\\lib\\site-packages (from requests<3.0,>=2.0->ibm_watson) (2024.7.4)\n"
     ]
    }
   ],
   "source": [
    "!pip install ibm_watson"
   ]
  },
  {
   "cell_type": "code",
   "execution_count": 71,
   "id": "70cbae08-a40d-4a86-811d-b2a9b3d15ea7",
   "metadata": {},
   "outputs": [],
   "source": [
    "url = 'https://api.au-syd.text-to-speech.watson.cloud.ibm.com/instances/3b43f7b4-1dae-479d-9b61-edf18a2ec43a'\n",
    "apiKey = 'd4B1ilQGaJZ1AwMNijyBnVoWlknGUMyP2GeEk7d8XOmH'"
   ]
  },
  {
   "cell_type": "code",
   "execution_count": 73,
   "id": "2aa91427-3af0-45ca-89b9-4e820e1d0a1e",
   "metadata": {},
   "outputs": [],
   "source": [
    "from ibm_watson import TextToSpeechV1\n",
    "from ibm_cloud_sdk_core.authenticators import IAMAuthenticator"
   ]
  },
  {
   "cell_type": "code",
   "execution_count": 75,
   "id": "0096fa5f-52fa-4445-983b-1978dd0c47e5",
   "metadata": {},
   "outputs": [],
   "source": [
    "authenticator = IAMAuthenticator(apiKey)\n",
    "tts = TextToSpeechV1(authenticator=authenticator)\n",
    "tts.set_service_url(url)"
   ]
  },
  {
   "cell_type": "code",
   "execution_count": 91,
   "id": "7059fd2e-a236-4d7f-9802-4f8d54755b5b",
   "metadata": {},
   "outputs": [],
   "source": [
    "with open('./speech.mp3', 'wb') as audio_file:\n",
    "    res = tts.synthesize('Hello World!', accept='audio/mp3', voice='en-US_AllisonV3Voice').get_result()\n",
    "    audio_file.write(res.content)"
   ]
  },
  {
   "cell_type": "code",
   "execution_count": 92,
   "id": "bcc45c1e-de52-443f-87a1-8bccb2526c51",
   "metadata": {},
   "outputs": [],
   "source": [
    "with open('churchill.txt', 'r') as f:\n",
    "    text = f.readlines()"
   ]
  },
  {
   "cell_type": "code",
   "execution_count": 93,
   "id": "c0f89b9b-e5a5-48b5-9ec3-02891b40abfc",
   "metadata": {},
   "outputs": [
    {
     "data": {
      "text/plain": [
       "['SynthÃ¨se vocale en 1 000 voix â€” SynthÃ¨se vocale gratuite de haute qualitÃ© en ligne avec notre gÃ©nÃ©rateur de voix IA. Meilleur outil de clonage de voix IA, sans frais. Clonage vocal rapide. TTS de qualitÃ© humaine. Technologie vocale personnalisÃ©e. Effets sonores IA.\\n']"
      ]
     },
     "execution_count": 93,
     "metadata": {},
     "output_type": "execute_result"
    }
   ],
   "source": [
    "text"
   ]
  },
  {
   "cell_type": "code",
   "execution_count": 94,
   "id": "66a99171-97ea-4080-a8ad-31099dbd1546",
   "metadata": {},
   "outputs": [],
   "source": [
    "text = ''.join(str(line) for line in text)"
   ]
  },
  {
   "cell_type": "code",
   "execution_count": 95,
   "id": "bac5216b-e0b0-429d-af49-cc70414ad1b6",
   "metadata": {},
   "outputs": [],
   "source": [
    "with open('./winston.mp3', 'wb') as audio_file:\n",
    "    res = tts.synthesize(text, accept='audio/mp3', voice='en-GB_JamesV3Voice').get_result()\n",
    "    audio_file.write(res.content)"
   ]
  },
  {
   "cell_type": "code",
   "execution_count": 119,
   "id": "58a9cf43-3449-4bfe-a985-f4ee605de98a",
   "metadata": {},
   "outputs": [],
   "source": [
    "frere = \"\"\"Frère Jacques.\n",
    "    Frère Jacques.\n",
    "    Dormez-vous?\n",
    "    Dormez-vous?\n",
    "    Sonnez les matines.\n",
    "    Sonnez les matines.\n",
    "    Ding, ding, dong. \n",
    "    Ding, ding, dong.\n",
    "    Frère Jacques.\n",
    "    Frère Jacques.\n",
    "    Dormez-vous?\n",
    "    Dormez-vous?\n",
    "    Sonnez les matines.\n",
    "    Sonnez les matines.\n",
    "    Ding, ding, dong. \n",
    "    Ding, ding, dong. \n",
    "    Ding, ding, dong. \n",
    "    Ding, ding, dong.\"\"\""
   ]
  },
  {
   "cell_type": "code",
   "execution_count": 121,
   "id": "258ffee9-9a80-4cd0-bcaa-2b9bea56c5b2",
   "metadata": {},
   "outputs": [],
   "source": [
    "with open('./frere.mp3', 'wb') as audio_file:\n",
    "    res = tts.synthesize(frere, accept='audio/mp3', voice='fr-FR_ReneeV3Voice').get_result()\n",
    "    audio_file.write(res.content)"
   ]
  },
  {
   "cell_type": "code",
   "execution_count": null,
   "id": "e5af3155-e4f2-40d8-b9f1-c572f9b3707d",
   "metadata": {},
   "outputs": [],
   "source": []
  }
 ],
 "metadata": {
  "kernelspec": {
   "display_name": "Python 3 (ipykernel)",
   "language": "python",
   "name": "python3"
  },
  "language_info": {
   "codemirror_mode": {
    "name": "ipython",
    "version": 3
   },
   "file_extension": ".py",
   "mimetype": "text/x-python",
   "name": "python",
   "nbconvert_exporter": "python",
   "pygments_lexer": "ipython3",
   "version": "3.12.4"
  }
 },
 "nbformat": 4,
 "nbformat_minor": 5
}
