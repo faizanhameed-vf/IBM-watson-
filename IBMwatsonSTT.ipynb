{
 "cells": [
  {
   "cell_type": "code",
   "execution_count": 8,
   "id": "14364a70-0af4-4e64-a752-d0c5e52f5bf7",
   "metadata": {},
   "outputs": [],
   "source": [
    "url = 'https://api.au-syd.speech-to-text.watson.cloud.ibm.com/instances/d49aa987-6405-42a7-aada-897b06f65a8e'\n",
    "apiKey = 'Masgi7s1jCSyNrXsNEUVJjzjA5bDUjpqCtAxKhoi9R0w'"
   ]
  },
  {
   "cell_type": "code",
   "execution_count": 9,
   "id": "7453c564-d0fd-4bd0-ad22-286b06a14816",
   "metadata": {},
   "outputs": [],
   "source": [
    "from ibm_watson import SpeechToTextV1\n",
    "from ibm_cloud_sdk_core.authenticators import IAMAuthenticator"
   ]
  },
  {
   "cell_type": "code",
   "execution_count": 10,
   "id": "d7dfa431-3f88-4603-9c55-53ccd815675f",
   "metadata": {},
   "outputs": [],
   "source": [
    "authenticator = IAMAuthenticator(apiKey)\n",
    "stt = SpeechToTextV1(authenticator=authenticator)\n",
    "stt.set_service_url(url)"
   ]
  },
  {
   "cell_type": "code",
   "execution_count": 11,
   "id": "1e4e0d3a-f94e-4b03-b42f-d6c345f0de49",
   "metadata": {},
   "outputs": [],
   "source": [
    "with open(\"speech.mp3\", \"rb\") as mp3:\n",
    "    response = stt.recognize(audio=mp3,content_type=\"audio/mp3\")\n",
    "    recognized_text = response.result['results'][0]['alternatives'][0]['transcript']"
   ]
  },
  {
   "cell_type": "code",
   "execution_count": 12,
   "id": "27256bc8-3919-4138-8518-c1bd21b91484",
   "metadata": {},
   "outputs": [
    {
     "data": {
      "text/plain": [
       "'Pakistan officially known as the Islamic Republic of Pakistan is a country located in South Asia it shares borders with India to the East China and Afghanistan to the north Iran to the west and the Arabian Sea to the south with the rich cultural heritage in the diverse geography that includes snow capped mountains deserts and lush valleys Pakistan is home to over two hundred sixteen million people from various ethnic and linguistic backgrounds the country has a complex history having been created in nineteen forty seven to the partition of British India which lead to significant immigration of Muslims to the newly formed state today Pakistan continues to grapple with issues such as political instability economic challenges and sectarianism amidst its efforts to develop its education system industrial base and tourism sector which has the potential to showcase its natural beauty and cultural traditions to the world '"
      ]
     },
     "execution_count": 12,
     "metadata": {},
     "output_type": "execute_result"
    }
   ],
   "source": [
    "recognized_text"
   ]
  },
  {
   "cell_type": "code",
   "execution_count": null,
   "id": "b58514f8-a742-4900-b1bd-c0b8b95ca95d",
   "metadata": {},
   "outputs": [],
   "source": []
  }
 ],
 "metadata": {
  "kernelspec": {
   "display_name": "Python 3 (ipykernel)",
   "language": "python",
   "name": "python3"
  },
  "language_info": {
   "codemirror_mode": {
    "name": "ipython",
    "version": 3
   },
   "file_extension": ".py",
   "mimetype": "text/x-python",
   "name": "python",
   "nbconvert_exporter": "python",
   "pygments_lexer": "ipython3",
   "version": "3.12.4"
  }
 },
 "nbformat": 4,
 "nbformat_minor": 5
}
