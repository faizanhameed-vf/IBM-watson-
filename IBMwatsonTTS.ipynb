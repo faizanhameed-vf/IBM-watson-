{
 "cells": [
  {
   "cell_type": "code",
   "execution_count": 9,
   "id": "4945278d-0ab0-48d3-8993-2c533177d14c",
   "metadata": {},
   "outputs": [
    {
     "name": "stdout",
     "output_type": "stream",
     "text": [
      "Defaulting to user installation because normal site-packages is not writeable\n",
      "Requirement already satisfied: ibm_watson in c:\\users\\faizan hameed\\appdata\\roaming\\python\\python312\\site-packages (8.1.0)\n",
      "Requirement already satisfied: requests<3.0,>=2.0 in c:\\users\\faizanhameed\\anaconda3\\lib\\site-packages (from ibm_watson) (2.32.2)\n",
      "Requirement already satisfied: python-dateutil>=2.5.3 in c:\\users\\faizanhameed\\anaconda3\\lib\\site-packages (from ibm_watson) (2.9.0.post0)\n",
      "Requirement already satisfied: websocket-client>=1.1.0 in c:\\users\\faizanhameed\\anaconda3\\lib\\site-packages (from ibm_watson) (1.8.0)\n",
      "Requirement already satisfied: ibm-cloud-sdk-core==3.*,>=3.3.6 in c:\\users\\faizan hameed\\appdata\\roaming\\python\\python312\\site-packages (from ibm_watson) (3.21.0)\n",
      "Requirement already satisfied: urllib3<3.0.0,>=2.1.0 in c:\\users\\faizanhameed\\anaconda3\\lib\\site-packages (from ibm-cloud-sdk-core==3.*,>=3.3.6->ibm_watson) (2.2.2)\n",
      "Requirement already satisfied: PyJWT<3.0.0,>=2.8.0 in c:\\users\\faizanhameed\\anaconda3\\lib\\site-packages (from ibm-cloud-sdk-core==3.*,>=3.3.6->ibm_watson) (2.8.0)\n",
      "Requirement already satisfied: six>=1.5 in c:\\users\\faizanhameed\\anaconda3\\lib\\site-packages (from python-dateutil>=2.5.3->ibm_watson) (1.16.0)\n",
      "Requirement already satisfied: charset-normalizer<4,>=2 in c:\\users\\faizanhameed\\anaconda3\\lib\\site-packages (from requests<3.0,>=2.0->ibm_watson) (2.0.4)\n",
      "Requirement already satisfied: idna<4,>=2.5 in c:\\users\\faizanhameed\\anaconda3\\lib\\site-packages (from requests<3.0,>=2.0->ibm_watson) (3.7)\n",
      "Requirement already satisfied: certifi>=2017.4.17 in c:\\users\\faizanhameed\\anaconda3\\lib\\site-packages (from requests<3.0,>=2.0->ibm_watson) (2024.6.2)\n",
      "Note: you may need to restart the kernel to use updated packages.\n"
     ]
    }
   ],
   "source": [
    "pip install ibm_watson"
   ]
  },
  {
   "cell_type": "code",
   "execution_count": 5,
   "id": "70cbae08-a40d-4a86-811d-b2a9b3d15ea7",
   "metadata": {},
   "outputs": [],
   "source": [
    "url = 'https://api.au-syd.text-to-speech.watson.cloud.ibm.com/instances/0f95b138-c5a0-45c2-bd7b-41a151789ec9'\n",
    "apiKey = 'DF5E0QePw6c25_HlhXWuMVkAmIEDIgbkyCU7M7g8yRBT'"
   ]
  },
  {
   "cell_type": "code",
   "execution_count": 6,
   "id": "2aa91427-3af0-45ca-89b9-4e820e1d0a1e",
   "metadata": {},
   "outputs": [],
   "source": [
    "from ibm_watson import TextToSpeechV1\n",
    "from ibm_cloud_sdk_core.authenticators import IAMAuthenticator"
   ]
  },
  {
   "cell_type": "code",
   "execution_count": 17,
   "id": "0096fa5f-52fa-4445-983b-1978dd0c47e5",
   "metadata": {},
   "outputs": [],
   "source": [
    "authenticator = IAMAuthenticator(apiKey)\n",
    "tts = TextToSpeechV1(authenticator=authenticator)\n",
    "tts.set_service_url(url)"
   ]
  },
  {
   "cell_type": "code",
   "execution_count": 18,
   "id": "a37bfa5a-6b74-4597-a27c-74c69f78a104",
   "metadata": {},
   "outputs": [],
   "source": [
    "with open('pakistan.txt', 'r') as f:\n",
    "    text1 = f.readlines()"
   ]
  },
  {
   "cell_type": "code",
   "execution_count": 19,
   "id": "d7671fa5-63b1-46ce-9aa8-d5611cda639f",
   "metadata": {},
   "outputs": [
    {
     "data": {
      "text/plain": [
       "['Pakistan, officially known as the Islamic Republic of Pakistan, is a country located in South Asia. It shares borders with India to the east, China and Afghanistan to the north, Iran to the west, and the Arabian Sea to the south. With a rich cultural heritage and a diverse geography that includes snow-capped mountains, arid deserts, and lush valleys, Pakistan is home to over 216 million people from various ethnic and linguistic backgrounds. The country has a complex history, having been created in 1947 through the partition of British India, which led to significant immigration of Muslims to the newly formed state. Today, Pakistan continues to grapple with issues such as political instability, economic challenges, and sectarianism, amidst its efforts to develop its education system, industrial base, and tourism sector, which has the potential to showcase its natural beauty and cultural traditions to the world.']"
      ]
     },
     "execution_count": 19,
     "metadata": {},
     "output_type": "execute_result"
    }
   ],
   "source": [
    "text1"
   ]
  },
  {
   "cell_type": "code",
   "execution_count": 21,
   "id": "c3d0eeeb-53e3-4574-87a6-695e1f2ab456",
   "metadata": {},
   "outputs": [],
   "source": [
    "text1 = ''.join(str(line) for line in text1)"
   ]
  },
  {
   "cell_type": "code",
   "execution_count": 22,
   "id": "7059fd2e-a236-4d7f-9802-4f8d54755b5b",
   "metadata": {},
   "outputs": [],
   "source": [
    "with open('./speech.mp3', 'wb') as audio_file:\n",
    "    res = tts.synthesize(text1, accept='audio/mp3', voice='en-US_AllisonV3Voice').get_result()\n",
    "    audio_file.write(res.content)"
   ]
  },
  {
   "cell_type": "code",
   "execution_count": 9,
   "id": "bcc45c1e-de52-443f-87a1-8bccb2526c51",
   "metadata": {},
   "outputs": [],
   "source": [
    "with open('churchill.txt', 'r') as f:\n",
    "    text = f.readlines()"
   ]
  },
  {
   "cell_type": "code",
   "execution_count": 10,
   "id": "c0f89b9b-e5a5-48b5-9ec3-02891b40abfc",
   "metadata": {},
   "outputs": [
    {
     "data": {
      "text/plain": [
       "['SynthÃ¨se vocale en 1 000 voix â€” SynthÃ¨se vocale gratuite de haute qualitÃ© en ligne avec notre gÃ©nÃ©rateur de voix IA. Meilleur outil de clonage de voix IA, sans frais. Clonage vocal rapide. TTS de qualitÃ© humaine. Technologie vocale personnalisÃ©e. Effets sonores IA.\\n']"
      ]
     },
     "execution_count": 10,
     "metadata": {},
     "output_type": "execute_result"
    }
   ],
   "source": [
    "text"
   ]
  },
  {
   "cell_type": "code",
   "execution_count": 11,
   "id": "66a99171-97ea-4080-a8ad-31099dbd1546",
   "metadata": {},
   "outputs": [],
   "source": [
    "text = ''.join(str(line) for line in text)"
   ]
  },
  {
   "cell_type": "code",
   "execution_count": 16,
   "id": "be580def-f638-4f1d-a0e9-e8d329b7dfbd",
   "metadata": {},
   "outputs": [
    {
     "data": {
      "text/plain": [
       "'SynthÃ¨se vocale en 1 000 voix â€” SynthÃ¨se vocale gratuite de haute qualitÃ© en ligne avec notre gÃ©nÃ©rateur de voix IA. Meilleur outil de clonage de voix IA, sans frais. Clonage vocal rapide. TTS de qualitÃ© humaine. Technologie vocale personnalisÃ©e. Effets sonores IA.\\n'"
      ]
     },
     "execution_count": 16,
     "metadata": {},
     "output_type": "execute_result"
    }
   ],
   "source": [
    "text"
   ]
  },
  {
   "cell_type": "code",
   "execution_count": 12,
   "id": "bac5216b-e0b0-429d-af49-cc70414ad1b6",
   "metadata": {},
   "outputs": [],
   "source": [
    "with open('./winston.mp3', 'wb') as audio_file:\n",
    "    res = tts.synthesize(text, accept='audio/mp3', voice='en-GB_JamesV3Voice').get_result()\n",
    "    audio_file.write(res.content)"
   ]
  },
  {
   "cell_type": "code",
   "execution_count": 13,
   "id": "58a9cf43-3449-4bfe-a985-f4ee605de98a",
   "metadata": {},
   "outputs": [],
   "source": [
    "frere = \"\"\"Sous le ciel étoilé de la nuit sereine,\n",
    "Les murmures du vent bercent les plaines,\n",
    "Les étoiles brillent, éclats de lumière,\n",
    "Éclairant doucement la Terre entière.\n",
    "\n",
    "La lune, témoin des secrets d'amour,\n",
    "Révèle des histoires qui durent toujours.\n",
    "Les rivières chantent en douce harmonie,\n",
    "Une mélodie douce, infinie.\n",
    "\n",
    "Les ombres dansent sur les murs anciens,\n",
    "Racontant des histoires de jours anciens.\n",
    "La nature parle, même dans le silence,\n",
    "Offrant aux âmes une douce révérence.\n",
    "\n",
    "Et moi, sous ce ciel de diamant parsemé,\n",
    "Je rêve des mondes que je peux imaginer,\n",
    "Chaque étoile un espoir, chaque souffle une vie,\n",
    "Dans la douceur d'une nuit infinie.\"\"\""
   ]
  },
  {
   "cell_type": "code",
   "execution_count": 14,
   "id": "258ffee9-9a80-4cd0-bcaa-2b9bea56c5b2",
   "metadata": {},
   "outputs": [],
   "source": [
    "with open('./frere.mp3', 'wb') as audio_file:\n",
    "    res = tts.synthesize(frere, accept='audio/mp3', voice='fr-FR_ReneeV3Voice').get_result()\n",
    "    audio_file.write(res.content)"
   ]
  },
  {
   "cell_type": "code",
   "execution_count": null,
   "id": "e5af3155-e4f2-40d8-b9f1-c572f9b3707d",
   "metadata": {},
   "outputs": [],
   "source": []
  }
 ],
 "metadata": {
  "kernelspec": {
   "display_name": "Python 3 (ipykernel)",
   "language": "python",
   "name": "python3"
  },
  "language_info": {
   "codemirror_mode": {
    "name": "ipython",
    "version": 3
   },
   "file_extension": ".py",
   "mimetype": "text/x-python",
   "name": "python",
   "nbconvert_exporter": "python",
   "pygments_lexer": "ipython3",
   "version": "3.12.4"
  }
 },
 "nbformat": 4,
 "nbformat_minor": 5
}
